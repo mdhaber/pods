{
  "nbformat": 4,
  "nbformat_minor": 0,
  "metadata": {
    "kernelspec": {
      "display_name": "Python 3",
      "language": "python",
      "name": "python3"
    },
    "language_info": {
      "codemirror_mode": {
        "name": "ipython",
        "version": 3
      },
      "file_extension": ".py",
      "mimetype": "text/x-python",
      "name": "python",
      "nbconvert_exporter": "python",
      "pygments_lexer": "ipython3",
      "version": "3.6.8"
    },
    "colab": {
      "name": "3.4 Relationships Between Quantitative and Categorical Variables.ipynb",
      "provenance": [],
      "include_colab_link": true
    }
  },
  "cells": [
    {
      "cell_type": "markdown",
      "metadata": {
        "id": "view-in-github",
        "colab_type": "text"
      },
      "source": [
        "<a href=\"https://colab.research.google.com/github/dlsun/pods/blob/master/03-Quantitative-Data/3.4%20Relationships%20Between%20Quantitative%20and%20Categorical%20Variables.ipynb\" target=\"_parent\"><img src=\"https://colab.research.google.com/assets/colab-badge.svg\" alt=\"Open In Colab\"/></a>"
      ]
    },
    {
      "cell_type": "markdown",
      "metadata": {
        "id": "ozAqXDTGkMH6",
        "colab_type": "text"
      },
      "source": [
        "# 3.4 Relationships Between Quantitative and Categorical Variables\n",
        "\n",
        "In this section, we discuss ways to visualize the relationship between a categorical variable, like the building type of a home, and a quantitative variable, like the sale price."
      ]
    },
    {
      "cell_type": "code",
      "metadata": {
        "id": "iq_j0ogkkMH9",
        "colab_type": "code",
        "colab": {}
      },
      "source": [
        "import pandas as pd\n",
        "\n",
        "data_dir = \"https://dlsun.github.io/pods/data/\"\n",
        "df_ames = pd.read_csv(data_dir + \"AmesHousing.txt\", sep=\"\\t\")\n",
        "df_ames.head()"
      ],
      "execution_count": 0,
      "outputs": []
    },
    {
      "cell_type": "markdown",
      "metadata": {
        "id": "794CecW4kMIB",
        "colab_type": "text"
      },
      "source": [
        "One way is to visualize the conditional distributions of the quantitative variable, given the value of the categorical variable. In order to do this, we have to first determine the possible values of the categorical variable."
      ]
    },
    {
      "cell_type": "code",
      "metadata": {
        "id": "kejF-9FdkMID",
        "colab_type": "code",
        "colab": {}
      },
      "source": [
        "df_ames[\"Bldg Type\"].unique()"
      ],
      "execution_count": 0,
      "outputs": []
    },
    {
      "cell_type": "markdown",
      "metadata": {
        "id": "k92Q5wIqkMII",
        "colab_type": "text"
      },
      "source": [
        "Now, we can make a histogram of the sale price for each building type, by repeatedly subsetting the data set."
      ]
    },
    {
      "cell_type": "code",
      "metadata": {
        "id": "toH7rPF6kMIJ",
        "colab_type": "code",
        "colab": {}
      },
      "source": [
        "for bldg_type in df_ames[\"Bldg Type\"].unique():\n",
        "    df_ames[df_ames[\"Bldg Type\"] == bldg_type][\"SalePrice\"].plot.hist(\n",
        "        label=bldg_type,\n",
        "        density=True,\n",
        "        alpha=0.5,\n",
        "        legend=True\n",
        "    )"
      ],
      "execution_count": 0,
      "outputs": []
    },
    {
      "cell_type": "markdown",
      "metadata": {
        "id": "zyBqRcDBkMIL",
        "colab_type": "text"
      },
      "source": [
        "A density plot is less busy and may make it easier to compare the distributions of sale price for different building types."
      ]
    },
    {
      "cell_type": "code",
      "metadata": {
        "id": "QTE68V4FkMIN",
        "colab_type": "code",
        "colab": {}
      },
      "source": [
        "for bldg_type in df_ames[\"Bldg Type\"].unique():\n",
        "    df_ames[df_ames[\"Bldg Type\"] == bldg_type][\"SalePrice\"].plot.density(\n",
        "        label=bldg_type,\n",
        "        legend=True,\n",
        "        xlim=(0, 600000)\n",
        "    )"
      ],
      "execution_count": 0,
      "outputs": []
    },
    {
      "cell_type": "markdown",
      "metadata": {
        "id": "h-dWh1iDkMIR",
        "colab_type": "text"
      },
      "source": [
        "If we only need to know the center of each distribution, we can simply report the conditional mean for each building type. The conditional means can be visualized using a bar chart. We manually construct the `pandas` `Series` for making the bar chart."
      ]
    },
    {
      "cell_type": "code",
      "metadata": {
        "id": "DD8z3dF-kMIR",
        "colab_type": "code",
        "colab": {}
      },
      "source": [
        "mean_sale_price = pd.Series(dtype=float)\n",
        "\n",
        "for bldg_type in df_ames[\"Bldg Type\"].unique():\n",
        "    mean_sale_price[bldg_type] = df_ames[df_ames[\"Bldg Type\"] == bldg_type][\"SalePrice\"].mean()\n",
        "    \n",
        "mean_sale_price.plot.bar()\n",
        "mean_sale_price"
      ],
      "execution_count": 0,
      "outputs": []
    },
    {
      "cell_type": "markdown",
      "metadata": {
        "id": "pW1sV5LJkMIY",
        "colab_type": "text"
      },
      "source": [
        "However, this code is inefficient and repetitive. In this lesson, we will learn a framework for concisely specifying analyses like the one above."
      ]
    },
    {
      "cell_type": "markdown",
      "metadata": {
        "id": "JnCCsoQWkMIZ",
        "colab_type": "text"
      },
      "source": [
        "## Split-Apply-Combine Strategy"
      ]
    },
    {
      "cell_type": "markdown",
      "metadata": {
        "id": "VU-3_5QPkMIa",
        "colab_type": "text"
      },
      "source": [
        "The problem of calculating the average sale price for each building type is an example of a problem that can be solved using the _split-apply-combine strategy_. The key insight here is that many data analyses follow the same basic pattern:\n",
        "\n",
        "- First, a data set is _split_ into several subsets based on some variable.\n",
        "- Next, some analysis is _applied_ to each subset.\n",
        "- Finally, the results from each analysis are _combined_.\n",
        "\n",
        "The three steps are diagrammed in the figure below:\n",
        "\n",
        "![](https://github.com/dlsun/pods/blob/master/03-Quantitative-Data/split_apply_combine.png?raw=1) [source](https://github.com/jakevdp/PythonDataScienceHandbook/blob/master/notebooks/03.08-Aggregation-and-Grouping.ipynb)\n",
        "\n",
        "Applying this strategy to the working example above, we should first _split_ up the Ames data according to the building type, _apply_ the mean sale price to each subset, and finally _combine_ the results into one `Series`.\n",
        "\n",
        "[_Note:_ The term \"split-apply-combine\" was coined by Hadley Wickham in [a 2011 paper](https://www.jstatsoft.org/article/view/v040i01), but the idea is not new. It should already be familiar to you if you know SQL or MapReduce.]"
      ]
    },
    {
      "cell_type": "markdown",
      "metadata": {
        "id": "CwtlxKKRkMIa",
        "colab_type": "text"
      },
      "source": [
        "## Split-Apply-Combine in `pandas`: the `.groupby()` method\n",
        "\n",
        "To implement the split-apply-combine strategy in `pandas`, we use the `.groupby()` method. First, we specify one or more variables to split on in the argument to `.groupby()`. Then, we specify our analysis as usual. Pandas will handle splitting the data, applying the analysis to each subset, and combining the results at the end.\n",
        "\n",
        "For example, to make the histograms of sale price for each building type, we can `.groupby` the building type and plot as usual. Note that we do not need to specify the labels; `pandas` will automatically use the different building types as the labels."
      ]
    },
    {
      "cell_type": "code",
      "metadata": {
        "id": "U3No2vVLkMIb",
        "colab_type": "code",
        "colab": {}
      },
      "source": [
        "df_ames.groupby(\"Bldg Type\")[\"SalePrice\"].plot.hist(\n",
        "        density=True,\n",
        "        alpha=0.5,\n",
        "        legend=True\n",
        "    )"
      ],
      "execution_count": 0,
      "outputs": []
    },
    {
      "cell_type": "markdown",
      "metadata": {
        "id": "NjXEJZi2kMId",
        "colab_type": "text"
      },
      "source": [
        "Compare this line of code with the code to plot a histogram of **SalePrice**:\n",
        "\n",
        "`df_ames[\"SalePrice\"].plot.hist(...)`.\n",
        "\n",
        "The only difference is `.groupby(\"Bldg Type\")`. This turns a `DataFrame` into a `DataFrameGroupBy` object, which behaves like a `DataFrame`, except that any analysis that we specify will be applied to every subset of the `DataFrame` instead of the whole `DataFrame`."
      ]
    },
    {
      "cell_type": "markdown",
      "metadata": {
        "id": "D4vxuZjIkMIe",
        "colab_type": "text"
      },
      "source": [
        "Similarly, to calculate the average sale price for each building type, we can `.groupby` the building type and calculate the mean as usual."
      ]
    },
    {
      "cell_type": "code",
      "metadata": {
        "id": "QmOTiUg8kMIe",
        "colab_type": "code",
        "colab": {}
      },
      "source": [
        "df_ames.groupby(\"Bldg Type\")[\"SalePrice\"].mean()"
      ],
      "execution_count": 0,
      "outputs": []
    },
    {
      "cell_type": "markdown",
      "metadata": {
        "id": "yPLE78eIkMIg",
        "colab_type": "text"
      },
      "source": [
        "This automatically returned the desired `Series` that we can pass to `.plot.bar()`."
      ]
    },
    {
      "cell_type": "code",
      "metadata": {
        "id": "9JtqT0yXkMIh",
        "colab_type": "code",
        "colab": {}
      },
      "source": [
        "(df_ames.groupby(\"Bldg Type\")[\"SalePrice\"].mean().\n",
        " plot.bar())"
      ],
      "execution_count": 0,
      "outputs": []
    },
    {
      "cell_type": "markdown",
      "metadata": {
        "id": "trNyMRqCkMIj",
        "colab_type": "text"
      },
      "source": [
        "It is also possible to group by more than one variable. Simply pass in a list of variable names to `.groupby()`. For example, the following code calculates the average sale price by building type and house style."
      ]
    },
    {
      "cell_type": "code",
      "metadata": {
        "id": "zX6eqB-rkMIl",
        "colab_type": "code",
        "colab": {}
      },
      "source": [
        "df_ames.groupby([\"Bldg Type\", \"House Style\"])[\"SalePrice\"].mean()"
      ],
      "execution_count": 0,
      "outputs": []
    },
    {
      "cell_type": "markdown",
      "metadata": {
        "id": "WS_7xYHmkMIn",
        "colab_type": "text"
      },
      "source": [
        "Notice that when we use `.groupby()`, the resulting index is whatever variable(s) we grouped by. Since we grouped by two variables, this index actually has two levels. An index with more than one level is called a `MultiIndex` in `pandas`. To access a particular row in a `DataFrame` that is indexed by a `MultiIndex`, we pass in a tuple of the values we want from each level."
      ]
    },
    {
      "cell_type": "code",
      "metadata": {
        "id": "aJb0xpcWkMIn",
        "colab_type": "code",
        "colab": {}
      },
      "source": [
        "df_ames.groupby([\"Bldg Type\", \"House Style\"])[\"SalePrice\"].mean()[\n",
        "    (\"1Fam\", \"2Story\")\n",
        "]"
      ],
      "execution_count": 0,
      "outputs": []
    },
    {
      "cell_type": "markdown",
      "metadata": {
        "id": "6H_I9uaQkMIq",
        "colab_type": "text"
      },
      "source": [
        "# Exercises\n",
        "\n",
        "Exercises 1-5 work with the Tips data set (`https://dlsun.github.io/pods/data/tips.csv`)."
      ]
    },
    {
      "cell_type": "markdown",
      "metadata": {
        "id": "7OLcAC8zkMIq",
        "colab_type": "text"
      },
      "source": [
        "1\\. On which day of the week does the waiter serve the largest parties, on average?"
      ]
    },
    {
      "cell_type": "markdown",
      "metadata": {
        "id": "sQEOV8mmkMIr",
        "colab_type": "text"
      },
      "source": [
        "2\\. Calculate the average bill by day and time. What day-time combination has the highest average bill?"
      ]
    },
    {
      "cell_type": "markdown",
      "metadata": {
        "id": "w29DkGDukMIr",
        "colab_type": "text"
      },
      "source": [
        "3\\. Extract the average bill for Friday lunch from the result of Exercise 2."
      ]
    },
    {
      "cell_type": "markdown",
      "metadata": {
        "id": "u8PO0e5_kMIs",
        "colab_type": "text"
      },
      "source": [
        "4\\. Make a visualization comparing the distribution of tip percentages left by males and females. How do they compare?"
      ]
    },
    {
      "cell_type": "markdown",
      "metadata": {
        "id": "X8bXtatKkMIs",
        "colab_type": "text"
      },
      "source": [
        "5\\. Make a visualization that shows the average tip percentage as a function of table size."
      ]
    }
  ]
}