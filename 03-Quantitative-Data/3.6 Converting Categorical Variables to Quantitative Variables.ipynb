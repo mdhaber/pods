{
 "cells": [
  {
   "cell_type": "markdown",
   "metadata": {},
   "source": [
    "# 3.6 Converting Categorical Variables to Quantitative Variables"
   ]
  },
  {
   "cell_type": "markdown",
   "metadata": {},
   "source": [
    "We have seen how quantitative variables can be converted to categorical variables using the `cut` function. What about the other way around? Can categorical variables be converted to quantitative ones?"
   ]
  },
  {
   "cell_type": "code",
   "execution_count": null,
   "metadata": {},
   "outputs": [],
   "source": [
    "import numpy as np\n",
    "import pandas as pd\n",
    "\n",
    "data_dir = \"https://dlsun.github.io/pods/data/\"\n",
    "df_titanic = pd.read_csv(data_dir + \"titanic.csv\")\n",
    "df_titanic"
   ]
  },
  {
   "cell_type": "markdown",
   "metadata": {},
   "source": [
    "## Converting Categorical Variables to Quantitative Variables\n",
    "\n",
    "Binary categorical variables (categorical variables with exactly two categories) can be converted into quantitative variables by coding one category as 1 and the other category as 0. (In fact, the **survived** column in the Titanic data set has already been coded this way.) The easiest way to do this is to create a boolean mask. For example, to convert **gender** to a quantitative variable **female**, which is 1 if the passenger was female and 0 otherwise, we can do the following:"
   ]
  },
  {
   "cell_type": "code",
   "execution_count": null,
   "metadata": {},
   "outputs": [],
   "source": [
    "df_titanic[\"female\"] = 1 * (df_titanic[\"gender\"] == \"female\")\n",
    "df_titanic[\"female\"]"
   ]
  },
  {
   "cell_type": "markdown",
   "metadata": {},
   "source": [
    "Multiplying by 1 converts the `Series` of booleans to a `Series` of integers.\n",
    "\n",
    "Now we can manipulate this new variable as we would any other quantitative variable. For example, the sum would tell us how many passengers were female, while the mean would tell us the _proportion_ of passengers who were female."
   ]
  },
  {
   "cell_type": "code",
   "execution_count": null,
   "metadata": {},
   "outputs": [],
   "source": [
    "df_titanic[\"female\"].sum(), df_titanic[\"female\"].mean()"
   ]
  },
  {
   "cell_type": "markdown",
   "metadata": {},
   "source": [
    "What do we do about a categorical variable with more than two categories, like `embarked`, which has four categories? In general, a categorical variable with $K$ categories can be converted into $K$ separate 0/1 variables, or **dummy variables**. Each of the $K$ dummy variables is an indicator for one of the $K$ categories. That is, a dummy variable is 1 if the observation fell into its particular category and 0 otherwise.\n",
    "\n",
    "Although it is not difficult to create dummy variables manually, the easiest way to create them is the `get_dummies()` function in `pandas`."
   ]
  },
  {
   "cell_type": "code",
   "execution_count": null,
   "metadata": {},
   "outputs": [],
   "source": [
    "pd.get_dummies(df_titanic[\"embarked\"])"
   ]
  },
  {
   "cell_type": "markdown",
   "metadata": {},
   "source": [
    "Since every observation is in exactly one category, each row contains exactly one 1; the rest of the values in each row are 0s.\n",
    "\n",
    "We can call `get_dummies` on a `DataFrame` to encode multiple categorical variables at once. `pandas` will only dummy-encode the variables it deems as categorical, leaving the quantitative variables alone. If there are any categorical variables that are represented in the `DataFrame` using numeric types, they must be cast explicitly to a categorical type, such as `str`.  `pandas` will also automatically prepend the variable name to all dummy variables, to prevent collisions between column names in the final `DataFrame`."
   ]
  },
  {
   "cell_type": "code",
   "execution_count": null,
   "metadata": {},
   "outputs": [],
   "source": [
    "# Pass all variables to get_dummies except ones that are \"other\" types\n",
    "df_titanic_quant = pd.get_dummies(\n",
    "    df_titanic.drop([\"name\", \"ticketno\"], axis=1)\n",
    ")\n",
    "df_titanic_quant"
   ]
  },
  {
   "cell_type": "markdown",
   "metadata": {},
   "source": [
    "Notice that categorical variables, like `class`, were converted to dummy variables with names like `class_1st`, `class_2nd` and `class_3rd`, while quantitative variables, like `age`, were left alone."
   ]
  },
  {
   "cell_type": "markdown",
   "metadata": {},
   "source": [
    "# Exercises\n",
    "\n",
    "Exercises 1-3 ask you to work with the Ames housing data set (`https://dlsun.github.io/pods/data/AmesHousing.txt`)."
   ]
  },
  {
   "cell_type": "markdown",
   "metadata": {},
   "source": [
    "1\\. The **Neighborhood** variable in this data set is categorical. Convert it into $K$ quantitative variables. What is $K$ in this case?\n",
    "\n",
    "How would you use the quantitative variables that you just created to calculate the distribution of houses across the neighborhoods?"
   ]
  },
  {
   "cell_type": "markdown",
   "metadata": {},
   "source": [
    "2\\. How would you use the quantitative variables that you just created, along with the **SalePrice** column, to calculate the average price of a home in each neighborhood?"
   ]
  },
  {
   "cell_type": "markdown",
   "metadata": {},
   "source": [
    "3\\. Suppose you convert both the **Neighborhood** and **Bldg Type** variables to quantitative variables. How many new quantitative variables will you have now? What is the value of the sum across each row of these new quantitative variables?"
   ]
  }
 ],
 "metadata": {
  "kernelspec": {
   "display_name": "Python 3",
   "language": "python",
   "name": "python3"
  },
  "language_info": {
   "codemirror_mode": {
    "name": "ipython",
    "version": 3
   },
   "file_extension": ".py",
   "mimetype": "text/x-python",
   "name": "python",
   "nbconvert_exporter": "python",
   "pygments_lexer": "ipython3",
   "version": "3.6.8"
  }
 },
 "nbformat": 4,
 "nbformat_minor": 2
}
