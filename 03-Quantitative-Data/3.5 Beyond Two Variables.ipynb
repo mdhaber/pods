{
  "nbformat": 4,
  "nbformat_minor": 0,
  "metadata": {
    "kernelspec": {
      "display_name": "Python 3",
      "language": "python",
      "name": "python3"
    },
    "language_info": {
      "codemirror_mode": {
        "name": "ipython",
        "version": 3
      },
      "file_extension": ".py",
      "mimetype": "text/x-python",
      "name": "python",
      "nbconvert_exporter": "python",
      "pygments_lexer": "ipython3",
      "version": "3.7.2"
    },
    "colab": {
      "name": "3.5 Beyond Two Variables.ipynb",
      "provenance": [],
      "include_colab_link": true
    }
  },
  "cells": [
    {
      "cell_type": "markdown",
      "metadata": {
        "id": "view-in-github",
        "colab_type": "text"
      },
      "source": [
        "<a href=\"https://colab.research.google.com/github/dlsun/pods/blob/master/03-Quantitative-Data/3.5%20Beyond%20Two%20Variables.ipynb\" target=\"_parent\"><img src=\"https://colab.research.google.com/assets/colab-badge.svg\" alt=\"Open In Colab\"/></a>"
      ]
    },
    {
      "cell_type": "markdown",
      "metadata": {
        "id": "D0vDsZCGKr0g",
        "colab_type": "text"
      },
      "source": [
        "# 3.5 Beyond Two Variables\n",
        "\n",
        "So far in this chapter, we have seen a few ways to summarize and visualize the relationship between two variables. But what if we have more than two variables? This lesson discusses some strategies for visualizing higher-dimensional data.\n",
        "\n",
        "Let's first read in the Ames housing data set, which will be a working example throughout this lesson."
      ]
    },
    {
      "cell_type": "code",
      "metadata": {
        "id": "4OFDLFlsKr0t",
        "colab_type": "code",
        "colab": {}
      },
      "source": [
        "import matplotlib.pyplot as plt\n",
        "import pandas as pd\n",
        "\n",
        "data_dir = \"https://dlsun.github.io/pods/data/\"\n",
        "df_housing = pd.read_csv(data_dir + \"AmesHousing.txt\", sep=\"\\t\")\n",
        "df_housing"
      ],
      "execution_count": 0,
      "outputs": []
    },
    {
      "cell_type": "markdown",
      "metadata": {
        "id": "syHxfJLaKr0x",
        "colab_type": "text"
      },
      "source": [
        "## Using Color and Size\n",
        "\n",
        "In Section 3.3, we used scatterplots to visualize the relationship between living area and sale price. What if we also want to understand how number of bedrooms enters into the equation?\n",
        "\n",
        "One possibility is a three-dimensional scatterplot. However, 3D plots can be misleading on a two dimensional image, and they don't generalize well to even higher dimensions. A better approach is to use other graphical properties, such as the color or size of the points, to represent additional variables. \n",
        "\n",
        "The `.plot.scatter()` function in `pandas` allows us to control four properties of a scatterplot. We've seen two already:\n",
        "\n",
        "- `x=`: the variable on the $x$-axis\n",
        "- `y=`: the variable on the $y$-axis\n",
        "\n",
        "but there are two more:\n",
        "\n",
        "- `c=`: the colors of the points (either the name of a variable in the `DataFrame` or an array specifying the color of each point)\n",
        "- `s=`: the sizes of the points (must be an array specifying the size of each point)\n",
        "\n",
        "For example, to use color to represent the number of bedrooms, we could do the following:"
      ]
    },
    {
      "cell_type": "code",
      "metadata": {
        "id": "nTkPFFSAKr0y",
        "colab_type": "code",
        "colab": {}
      },
      "source": [
        "df_housing.plot.scatter(x=\"Gr Liv Area\", y=\"SalePrice\", \n",
        "                        c=\"Bedroom AbvGr\", alpha=.5)"
      ],
      "execution_count": 0,
      "outputs": []
    },
    {
      "cell_type": "markdown",
      "metadata": {
        "id": "9Nq6uA4vKr05",
        "colab_type": "text"
      },
      "source": [
        "Notice how the colors become darker as you move down the plot. This means that, holding living area constant, a house is less expensive the _more_ bedrooms it has. (Why do you think this is?)\n",
        "\n",
        "Now, the number of bedrooms is a quantitative variable. What if we wanted to visualize how a categorical variable, such as building type, interacts with these two quantitative variables (living area and sale price)? We have to manually construct the array of colors using the `.map()` function we learned in Chapter 1."
      ]
    },
    {
      "cell_type": "code",
      "metadata": {
        "id": "suF1tTXAKr07",
        "colab_type": "code",
        "colab": {}
      },
      "source": [
        "cols = df_housing[\"Bldg Type\"].map({\n",
        "    \"1Fam\": \"blue\",\n",
        "    \"TwnhsE\": \"green\",\n",
        "    \"Twnhs\": \"green\",\n",
        "    \"Duplex\": \"red\",\n",
        "    \"2fmCon\": \"orange\"\n",
        "})\n",
        "\n",
        "df_housing.plot.scatter(x=\"Gr Liv Area\", y=\"SalePrice\", \n",
        "                        c=cols, alpha=.3)"
      ],
      "execution_count": 0,
      "outputs": []
    },
    {
      "cell_type": "markdown",
      "metadata": {
        "id": "ASDj4j7HKr0_",
        "colab_type": "text"
      },
      "source": [
        "## Small Multiples\n",
        "\n",
        "Rather than try to pack all the variables into a single plot, we can juxtapose several plots or \"facets\", each showing the data from a slightly different angle. Edward Tufte coined the term \"small multiples\" for this type of graphic.\n",
        "\n",
        "For example, rather than use color to represent building type, we could have made 5 separate scatterplots, one for each building type, and arranged them in a row for easy comparison."
      ]
    },
    {
      "cell_type": "code",
      "metadata": {
        "id": "gUs-yo_sKr1A",
        "colab_type": "code",
        "colab": {}
      },
      "source": [
        "# Specifies a 1 x 5 grid of plots, figsize in inches\n",
        "fig, axes = plt.subplots(1, 5, figsize=(10, 4))\n",
        "\n",
        "bldg_types = df_housing[\"Bldg Type\"].unique()\n",
        "for ax, bldg_type in zip(axes, bldg_types):\n",
        "    (df_housing[df_housing[\"Bldg Type\"] == bldg_type].\n",
        "     plot.scatter(x=\"Gr Liv Area\", y=\"SalePrice\", ax=ax))\n",
        "    ax.set_title(bldg_type)"
      ],
      "execution_count": 0,
      "outputs": []
    },
    {
      "cell_type": "markdown",
      "metadata": {
        "id": "ChWYylBqKr1D",
        "colab_type": "text"
      },
      "source": [
        "Of course, the goal of such a graphic is to facilitate comparison, which is difficult when the $x$- and $y$-axes of the facets are so different. Since the facets are aligned horizontally, it makes sense to use a common $y$-axis for all of them. We can do this by specifying `sharey=True` in `plt.subplots()`. (There is also a corresponding `sharex=` argument.)"
      ]
    },
    {
      "cell_type": "code",
      "metadata": {
        "id": "sIe9b6ocKr1E",
        "colab_type": "code",
        "colab": {}
      },
      "source": [
        "# Specifies a 1 x 5 grid of plots, figsize in inches\n",
        "fig, axes = plt.subplots(1, 5, figsize=(10, 4), sharey=True)\n",
        "\n",
        "bldg_types = df_housing[\"Bldg Type\"].unique()\n",
        "for ax, bldg_type in zip(axes, bldg_types):\n",
        "    (df_housing[df_housing[\"Bldg Type\"] == bldg_type].\n",
        "     plot.scatter(x=\"Gr Liv Area\", y=\"SalePrice\", ax=ax))\n",
        "    ax.set_title(bldg_type)"
      ],
      "execution_count": 0,
      "outputs": []
    },
    {
      "cell_type": "markdown",
      "metadata": {
        "id": "J3g5LM6eKr1K",
        "colab_type": "text"
      },
      "source": [
        "Sharing the $y$-axes between the facets also resolved another issue---the colliding $y$-axis labels---since now only the first plot in the figure has an $y$-axis label."
      ]
    },
    {
      "cell_type": "markdown",
      "metadata": {
        "id": "8zNMqPJTKr1L",
        "colab_type": "text"
      },
      "source": [
        "## Grammar of Graphics\n",
        "\n",
        "The **grammar of graphics** organizes the ideas above into a coherent philosophy. The key insight is that a graphic can be specified by mapping properties of the graphic (e.g., color, size, $x$-axis, column facet) to variables in a data set. Although `pandas` provides some support for this philosophy, the process is tedious, requiring boilerplate code, as we have seen above. For example, in order to use color to represent building type, we had to manually map each building type to a color. Libraries based on the grammar of graphics provide a more friendly interface and hide this complexity from the user.\n",
        "\n",
        "Software packages that implement the grammar of graphics include `ggplot2` in R and [Altair](https://altair-viz.github.io/) in Python. Since we are working in Python, we will use Altair. The first step is to import the package."
      ]
    },
    {
      "cell_type": "code",
      "metadata": {
        "id": "7M7USJamKr1M",
        "colab_type": "code",
        "colab": {}
      },
      "source": [
        "from altair import Chart"
      ],
      "execution_count": 0,
      "outputs": []
    },
    {
      "cell_type": "markdown",
      "metadata": {
        "id": "BR7uDUKRKr1P",
        "colab_type": "text"
      },
      "source": [
        "Now, let's use Altair to recreate the scatterplot from earlier, where each point was colored according to the number of bedrooms.\n",
        "\n",
        "Every Altair command starts with `Chart(your_data_frame)`, followed by the two main elements of the graphic:\n",
        "- the mark (i.e., the geometric object being plotted, which for a scatterplot, is a circle)\n",
        "- the encoding channels (i.e., mappings between properties and variables). For a complete list of supported channels, see [here](https://altair-viz.github.io/user_guide/encodings/channels.html)."
      ]
    },
    {
      "cell_type": "code",
      "metadata": {
        "id": "tyA2vHBrKr1Q",
        "colab_type": "code",
        "colab": {}
      },
      "source": [
        "Chart(df_housing).mark_circle().encode(\n",
        "    x=\"Gr Liv Area\",\n",
        "    y=\"SalePrice\",\n",
        "    color=\"Bedroom AbvGr\"\n",
        ")"
      ],
      "execution_count": 0,
      "outputs": []
    },
    {
      "cell_type": "markdown",
      "metadata": {
        "id": "4JvYpMhhKr1V",
        "colab_type": "text"
      },
      "source": [
        "Now, what if we replace the number of bedrooms, a quantitative variable, with building type, a categorical variable?"
      ]
    },
    {
      "cell_type": "code",
      "metadata": {
        "id": "y31YFtSrKr1W",
        "colab_type": "code",
        "colab": {}
      },
      "source": [
        "Chart(df_housing).mark_circle().encode(\n",
        "    x=\"Gr Liv Area\",\n",
        "    y=\"SalePrice\",\n",
        "    color=\"Bldg Type\"\n",
        ")"
      ],
      "execution_count": 0,
      "outputs": []
    },
    {
      "cell_type": "markdown",
      "metadata": {
        "id": "rRn6Xm4BKr1a",
        "colab_type": "text"
      },
      "source": [
        "Notice how Altair automatically inferred that building type was a categorical variable and chose a coloring scheme accordingly. (Compare the color schemes of the two plots above. For quantitative variables, Altair uses a color gradient, while for categorical variables, it uses distinct colors.)"
      ]
    },
    {
      "cell_type": "markdown",
      "metadata": {
        "id": "55dNXfDiKr1a",
        "colab_type": "text"
      },
      "source": [
        "On the other hand, if we had wanted building type to be a column facet (i.e., displaying the different building types using small multiples), we would map the `column` property to building type:"
      ]
    },
    {
      "cell_type": "code",
      "metadata": {
        "id": "V_q0dqUyKr1c",
        "colab_type": "code",
        "colab": {}
      },
      "source": [
        "Chart(df_housing).mark_circle().encode(\n",
        "    x=\"Gr Liv Area\",\n",
        "    y=\"SalePrice\",\n",
        "    column=\"Bldg Type\"\n",
        ")"
      ],
      "execution_count": 0,
      "outputs": []
    },
    {
      "cell_type": "markdown",
      "metadata": {
        "id": "Os6-1PAnKr1f",
        "colab_type": "text"
      },
      "source": [
        "In the examples above, we mapped variables to properties by simply specifying the column names. Although this is convenient, it does not allow the property to be customized any further.\n",
        "\n",
        "In Altair, every property has an associated Python class. The name of the class is just the name of the property, but with the first letter capitalized. For example, the `x` property is associated with the `X` class and the `color` property with the `Color` class. The first argument of the constructor is always the name of the variable to map to the property, but the additional arguments allow for customization.\n",
        "\n",
        "For example, suppose we wanted the $x$-axis limits to range from 0 to 4000 and the tick labels on the $y$-axis to display numbers in scientific notation (i.e., 2e+5 instead of 200,000). Here's how we could achieve those customizations in Altair:"
      ]
    },
    {
      "cell_type": "code",
      "metadata": {
        "id": "vDNVC2tsKr1g",
        "colab_type": "code",
        "colab": {}
      },
      "source": [
	    "from altair import X, Y, Scale, Axis\n",
        "Chart(df_housing).mark_circle().encode(\n",
        "    x=X(\"Gr Liv Area\", scale=Scale(domain=(0, 4000))),\n",
        "    y=Y(\"SalePrice\", axis=Axis(format=\"e\")),\n",
        "    column=\"Bldg Type\"\n",
        ")"
      ],
      "execution_count": 0,
      "outputs": []
    },
    {
      "cell_type": "markdown",
      "metadata": {
        "id": "ALeaS78qKr1j",
        "colab_type": "text"
      },
      "source": [
        "## Exercises"
      ]
    },
    {
      "cell_type": "markdown",
      "metadata": {
        "id": "znhtMnj5Kr1l",
        "colab_type": "text"
      },
      "source": [
        "Exercises 1-2 deal with the Tips data set  (`https://dlsun.github.io/pods/data/tips.csv`)."
      ]
    },
    {
      "cell_type": "markdown",
      "metadata": {
        "id": "e_1f-TYHKr1m",
        "colab_type": "text"
      },
      "source": [
        "**Exercise 1.** Make a scatterplot (using `pandas`) showing the relationship between the tip and the total bill. Use color to indicate whether the tipper was male or female and the size of each point to represent the party size."
      ]
    },
    {
      "cell_type": "markdown",
      "metadata": {
        "id": "4OEWgkxQKr1p",
        "colab_type": "text"
      },
      "source": [
        "**Exercise 2.** Repeat Exercise 1, but using Altair. Can you incorporate even more variables into this figure?"
      ]
    }
  ]
}