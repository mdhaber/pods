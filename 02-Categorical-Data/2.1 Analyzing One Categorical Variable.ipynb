{
  "nbformat": 4,
  "nbformat_minor": 0,
  "metadata": {
    "kernelspec": {
      "display_name": "Python 3",
      "language": "python",
      "name": "python3"
    },
    "language_info": {
      "codemirror_mode": {
        "name": "ipython",
        "version": 3
      },
      "file_extension": ".py",
      "mimetype": "text/x-python",
      "name": "python",
      "nbconvert_exporter": "python",
      "pygments_lexer": "ipython3",
      "version": "3.6.8"
    },
    "colab": {
      "name": "2.1 Analyzing One Categorical Variable.ipynb",
      "provenance": []
    }
  },
  "cells": [
    {
      "cell_type": "markdown",
      "metadata": {
        "id": "0bNZijfPJtYw",
        "colab_type": "text"
      },
      "source": [
        "Recall from Chapter 1 that a **categorical variable** is a variable that can take on one of a limited set of values (which are called _levels_). In this chapter, we will discuss ways to analyze categorical variables. Throughout this chapter, we use the Titanic data set as a working example. This data set contains information about all of the people who were aboard the RMS Titanic when it sank in 1912, including both passengers and crew. Let's start by reading in this data set."
      ]
    },
    {
      "cell_type": "code",
      "metadata": {
        "id": "_YFx6GgqJtYz",
        "colab_type": "code",
        "colab": {}
      },
      "source": [
        "import pandas as pd\n",
        "\n",
        "data_dir = \"http://dlsun.github.io/pods/data/\"\n",
        "df_titanic = pd.read_csv(data_dir + \"titanic.csv\")\n",
        "df_titanic"
      ],
      "execution_count": 0,
      "outputs": []
    },
    {
      "cell_type": "markdown",
      "metadata": {
        "id": "c6RRWPfWJtY5",
        "colab_type": "text"
      },
      "source": [
        "The categorical variables in this data set are:\n",
        "- `gender` (male or female)\n",
        "- `class`: what class they were in (1st, 2nd, or 3rd) or what type of crew member they were\n",
        "- `embarked`: where they embarked (Belfast, Southampton, Cherbourg, or Queenstown)\n",
        "- `country`: their country of origin\n",
        "- `ticketno`: the ticket number\n",
        "- `survived`: whether or not they survived the disaster\n",
        "\n",
        "Note that `age` and `fare` are quantitative variables. It is tempting to consider `name` a categorical variable, but it is not, since (almost) every person has a unique name. In order for a variable to be categorical, it must take on a _limited_ set of values, ideally with each level appearing multiple times in the data set. Otherwise, the analyses that we describe in this chapter will not be very meaningful."
      ]
    },
    {
      "cell_type": "markdown",
      "metadata": {
        "id": "XRBPQWpZJtZm",
        "colab_type": "text"
      },
      "source": [
        "# Analyzing One Categorical Variable\n",
        "\n",
        "In this lesson, we focus on a single categorical variable. For a high-level summary of a categorical variable, we can use the `.describe()` command. Note that the behavior of `.describe()` will change, depending on whether `pandas` thinks that the variable is quantitative or categorical, which is why it is important to cast categorical variables to the right type, as we discussed in the previous chapter."
      ]
    },
    {
      "cell_type": "code",
      "metadata": {
        "id": "nru7HFtNJtZn",
        "colab_type": "code",
        "colab": {}
      },
      "source": [
        "df_titanic[\"class\"].describe()"
      ],
      "execution_count": 0,
      "outputs": []
    },
    {
      "cell_type": "markdown",
      "metadata": {
        "id": "AUwJjfTQJtZt",
        "colab_type": "text"
      },
      "source": [
        "To completely summarize a single categorical variable, we report the number of times each level appeared, or its **frequency**."
      ]
    },
    {
      "cell_type": "code",
      "metadata": {
        "id": "E4kcGK9TJtZt",
        "colab_type": "code",
        "colab": {}
      },
      "source": [
        "class_counts = df_titanic[\"class\"].value_counts()\n",
        "class_counts"
      ],
      "execution_count": 0,
      "outputs": []
    },
    {
      "cell_type": "markdown",
      "metadata": {
        "id": "Bmk5Y7zQJtZw",
        "colab_type": "text"
      },
      "source": [
        "Notice that the levels are sorted in decreasing order of frequency by default. We can also report the levels in the order they appear in the data set..."
      ]
    },
    {
      "cell_type": "code",
      "metadata": {
        "id": "yEK0-PecJtZx",
        "colab_type": "code",
        "colab": {}
      },
      "source": [
        "df_titanic[\"class\"].value_counts(sort=False)"
      ],
      "execution_count": 0,
      "outputs": []
    },
    {
      "cell_type": "markdown",
      "metadata": {
        "id": "7P-TqJvrJtZ0",
        "colab_type": "text"
      },
      "source": [
        "...or in alphabetical order, by sorting the index:"
      ]
    },
    {
      "cell_type": "code",
      "metadata": {
        "id": "w1jjt1nuJtZ0",
        "colab_type": "code",
        "colab": {}
      },
      "source": [
        "class_counts.sort_index()"
      ],
      "execution_count": 0,
      "outputs": []
    },
    {
      "cell_type": "markdown",
      "metadata": {
        "id": "kCTkd_7OJtZ3",
        "colab_type": "text"
      },
      "source": [
        "Note that this produces a _new_ `Series` with the index sorted. It does not sort the original `Series` `class_counts`. To sort the original series, we need to specify that the sorting should be done in place, just like we did for `.set_index()` in Chapter 1."
      ]
    },
    {
      "cell_type": "code",
      "metadata": {
        "id": "6tMY5S4CJtZ3",
        "colab_type": "code",
        "colab": {}
      },
      "source": [
        "class_counts.sort_index(inplace=True)\n",
        "class_counts"
      ],
      "execution_count": 0,
      "outputs": []
    },
    {
      "cell_type": "markdown",
      "metadata": {
        "id": "HBFyIJmYJtZ8",
        "colab_type": "text"
      },
      "source": [
        "Any other order would require selecting the levels manually, in the desired order."
      ]
    },
    {
      "cell_type": "code",
      "metadata": {
        "id": "Q7vi4FgIJtZ9",
        "colab_type": "code",
        "colab": {}
      },
      "source": [
        "class_counts.loc[\n",
        "    [\"1st\", \"2nd\", \"3rd\",\n",
        "     \"deck crew\", \"engineering crew\", \"victualling crew\",\n",
        "     \"restaurant staff\"]\n",
        "]"
      ],
      "execution_count": 0,
      "outputs": []
    },
    {
      "cell_type": "markdown",
      "metadata": {
        "id": "IKNQM_UxJtZ_",
        "colab_type": "text"
      },
      "source": [
        "This information can be visualized using a **bar chart**."
      ]
    },
    {
      "cell_type": "code",
      "metadata": {
        "id": "1Pr1BpI9JtZ_",
        "colab_type": "code",
        "colab": {}
      },
      "source": [
        "class_counts.plot.bar()"
      ],
      "execution_count": 0,
      "outputs": []
    },
    {
      "cell_type": "markdown",
      "metadata": {
        "id": "D2ST50hRJtaB",
        "colab_type": "text"
      },
      "source": [
        "Instead of reporting counts, we can also report proportions or probabilities, or the **relative frequencies**. We can calculate the relative frequencies by specifying `normalize=True` in `.value_counts()`."
      ]
    },
    {
      "cell_type": "code",
      "metadata": {
        "id": "D-3JccgEJtaC",
        "colab_type": "code",
        "colab": {}
      },
      "source": [
        "class_probs = df_titanic[\"class\"].value_counts(normalize=True)\n",
        "class_probs.sort_index()"
      ],
      "execution_count": 0,
      "outputs": []
    },
    {
      "cell_type": "markdown",
      "metadata": {
        "id": "g6EKTxBBJtaE",
        "colab_type": "text"
      },
      "source": [
        "This is equivalent to taking the counts and dividing by their sum."
      ]
    },
    {
      "cell_type": "code",
      "metadata": {
        "id": "Z2X-cH0wJtaF",
        "colab_type": "code",
        "colab": {}
      },
      "source": [
        "class_counts / class_counts.sum()"
      ],
      "execution_count": 0,
      "outputs": []
    },
    {
      "cell_type": "markdown",
      "metadata": {
        "id": "a5wGkd9AJtaH",
        "colab_type": "text"
      },
      "source": [
        "Notice that the relative frequencies add up to 1.0, by construction. We can report these relative frequencies using probability notation. For example:\n",
        "\n",
        "$$ P(\\text{1st class}) = 0.146806. $$\n",
        "\n",
        "The complete collection of probabilities of all levels of a variable is called the **distribution** of that variable. So the code above calculates the distribution of \"class\" on the Titanic."
      ]
    },
    {
      "cell_type": "markdown",
      "metadata": {
        "id": "swUzbXFGJtaH",
        "colab_type": "text"
      },
      "source": [
        "The bar chart for relative frequencies (i.e., probabilities) looks qualitatively the same as the bar chart for frequencies (i.e., counts). The only difference is that the scale on the $y$-axis is different."
      ]
    },
    {
      "cell_type": "code",
      "metadata": {
        "id": "LNEzMug6JtaI",
        "colab_type": "code",
        "colab": {}
      },
      "source": [
        "class_probs.sort_index().plot.bar()"
      ],
      "execution_count": 0,
      "outputs": []
    },
    {
      "cell_type": "markdown",
      "metadata": {
        "id": "T-aiM7OfJtaM",
        "colab_type": "text"
      },
      "source": [
        "In the next lesson, we will see why it is often more useful to plot the relative frequencies (i.e., probabilities) rather than the frequencies (i.e., counts)."
      ]
    },
    {
      "cell_type": "markdown",
      "metadata": {
        "id": "O1R6vBYwJtaN",
        "colab_type": "text"
      },
      "source": [
        "## Transforming Categorical Variables\n",
        "\n",
        "A categorical variable can be transformed by mapping its levels to new levels. For example, we may only be interested in whether a person on the titanic was a passenger or a crew member. The variable `class` is too detailed. We can create a new variable, `type`, that is derived from the existing variable `class`. Observations with a `class` of \"1st\", \"2nd\", or \"3rd\" get a value of \"passenger\", while observations with a `class` of \"deck crew\", \"engineering crew\", or \"deck crew\" get a value of \"crew\"."
      ]
    },
    {
      "cell_type": "code",
      "metadata": {
        "id": "gsA4gHKhJtaN",
        "colab_type": "code",
        "colab": {}
      },
      "source": [
        "df_titanic[\"type\"] = df_titanic[\"class\"].map({\n",
        "    \"1st\": \"passenger\",\n",
        "    \"2nd\": \"passenger\",\n",
        "    \"3rd\": \"passenger\",\n",
        "    \"victualling crew\": \"crew\",\n",
        "    \"engineering crew\": \"crew\",\n",
        "    \"deck crew\": \"crew\"\n",
        "})\n",
        "\n",
        "df_titanic"
      ],
      "execution_count": 0,
      "outputs": []
    },
    {
      "cell_type": "markdown",
      "metadata": {
        "id": "u082T2xbJtaP",
        "colab_type": "text"
      },
      "source": [
        "Upon closer inspection of this `DataFrame`, we see that we accidentally left out the level \"restaurant staff\" in the input to `.map()`. Any levels that are unspecified will be mapped to the missing value `NaN`.\n",
        "\n",
        "This suggests a more concise way to define the new variable `type`. We can specify only the levels for passengers in the mapping and then fill in the missing values afterwards."
      ]
    },
    {
      "cell_type": "code",
      "metadata": {
        "id": "fL2fQ8O8JtaQ",
        "colab_type": "code",
        "colab": {}
      },
      "source": [
        "df_titanic[\"type\"] = df_titanic[\"class\"].map({\n",
        "    \"1st\": \"passenger\",\n",
        "    \"2nd\": \"passenger\",\n",
        "    \"3rd\": \"passenger\"\n",
        "})\n",
        "\n",
        "# Replace all missing values by \"crew\"\n",
        "df_titanic[\"type\"].fillna(\"crew\", inplace=True)\n",
        "\n",
        "df_titanic"
      ],
      "execution_count": 0,
      "outputs": []
    },
    {
      "cell_type": "markdown",
      "metadata": {
        "id": "scGxkqKfXVk-",
        "colab_type": "text"
      },
      "source": [
        "For more complex mappings, the `.map()` method also accepts a function. So the above "
      ]
    },
    {
      "cell_type": "code",
      "metadata": {
        "id": "q2LwDPWMXsXH",
        "colab_type": "code",
        "colab": {}
      },
      "source": [
        "def class_to_type(c):\n",
        "  if c in [\"1st\", \"2nd\", \"3rd\"]:\n",
        "    return \"passenger\"\n",
        "  else:\n",
        "    return \"crew\"\n",
        "\n",
        "df_titanic[\"class\"].map(class_to_type)"
      ],
      "execution_count": 0,
      "outputs": []
    },
    {
      "cell_type": "markdown",
      "metadata": {
        "id": "oNImjvbGJtaS",
        "colab_type": "text"
      },
      "source": [
        "We can apply the techniques we learned above to calculate the _distribution_ of this new variable, which only has two levels."
      ]
    },
    {
      "cell_type": "code",
      "metadata": {
        "id": "TEGiAcFAJtaT",
        "colab_type": "code",
        "colab": {}
      },
      "source": [
        "df_titanic[\"type\"].value_counts(normalize=True)"
      ],
      "execution_count": 0,
      "outputs": []
    },
    {
      "cell_type": "markdown",
      "metadata": {
        "id": "yF-G7EIXJtaV",
        "colab_type": "text"
      },
      "source": [
        "## Conditional Probabilities\n",
        "\n",
        "What fraction of males were crew members? To answer questions like this, we have to filter the `DataFrame` to include only males.\n",
        "\n",
        "The standard way to filter a `DataFrame` is to use a **boolean mask**. A boolean mask is simply a `Series` of booleans whose index matches the index of the `DataFrame`.\n",
        "\n",
        "The easiest way to create a boolean mask is to use one of the standard comparison operators `==`, `<`, `>`, and `!=` on an existing column in the `DataFrame`. For example, the following code produces a boolean mask that is equal to `True` for the males on the Titanic and `False` otherwise."
      ]
    },
    {
      "cell_type": "code",
      "metadata": {
        "id": "LaR02lRMJtaW",
        "colab_type": "code",
        "colab": {}
      },
      "source": [
        "df_titanic[\"gender\"] == \"male\""
      ],
      "execution_count": 0,
      "outputs": []
    },
    {
      "cell_type": "markdown",
      "metadata": {
        "id": "fPlvq_-mJtad",
        "colab_type": "text"
      },
      "source": [
        "Notice the subtle way the equality operator `==` is being used here! We are comparing an array with a string, i.e.,\n",
        "\n",
        "\\begin{align}\n",
        "& \\begin{bmatrix} \\text{\"male\"} \\\\ \\text{\"male\"} \\\\ \\text{\"male\"} \\\\ \\text{\"female\"} \\\\ \\vdots \\\\ \\text{\"male\"} \\end{bmatrix} & \\text{with} & & \\text{\"male\"}.\n",
        "\\end{align}\n",
        "\n",
        "In most programming languages, this comparison would make no sense. An array of strings is obviously not equal to a string. However, `pandas` automatically applies the equality operator to _each_ element of the array. As a result, we get an entire array (i.e., a `Series`) of booleans.\n",
        "\n",
        "\\begin{align}\n",
        " \\begin{bmatrix} \\text{\"male\"} \\\\ \\text{\"male\"} \\\\ \\text{\"male\"} \\\\ \\text{\"female\"} \\\\ \\vdots \\\\ \\text{\"male\"} \\end{bmatrix} &== \\text{\"male\"} &\\Longrightarrow & &  \\begin{bmatrix} \\text{True} \\\\ \\text{True} \\\\ \\text{True} \\\\ \\text{False} \\\\ \\vdots \\\\ \\text{True} \\end{bmatrix}.\n",
        "\\end{align}\n",
        "\n",
        "When an operation is applied to each element of an array, it is said to be **broadcast** over that array.\n",
        "\n",
        "Now, we can use the boolean mask as a filter on the `DataFrame` to extract the rows where the mask equals `True`."
      ]
    },
    {
      "cell_type": "code",
      "metadata": {
        "id": "1O6x3ZoZJtaf",
        "colab_type": "code",
        "colab": {}
      },
      "source": [
        "df_male = df_titanic[df_titanic[\"gender\"] == \"male\"]\n",
        "df_male"
      ],
      "execution_count": 0,
      "outputs": []
    },
    {
      "cell_type": "markdown",
      "metadata": {
        "id": "1NXzBSg6Jtai",
        "colab_type": "text"
      },
      "source": [
        "Note that every person in this new `DataFrame` is male. If you inspect the index, you will see that rows 4 and 5 are missing. That is because those passengers were female."
      ]
    },
    {
      "cell_type": "markdown",
      "metadata": {
        "id": "rj6sUAzlJtaj",
        "colab_type": "text"
      },
      "source": [
        "Finally, we can apply the methods we've learned in this lesson to `df_male` to answer the original question: \"What fraction of males were crew members?\""
      ]
    },
    {
      "cell_type": "code",
      "metadata": {
        "id": "PL5AZdDCJtak",
        "colab_type": "code",
        "colab": {}
      },
      "source": [
        "df_male[\"type\"].value_counts(normalize=True)"
      ],
      "execution_count": 0,
      "outputs": []
    },
    {
      "cell_type": "markdown",
      "metadata": {
        "id": "h8JMRXKrJtam",
        "colab_type": "text"
      },
      "source": [
        "It appears that about 50.4657% of the males were crew members. We can notate this using _conditional probability_ notation:\n",
        "\n",
        "$$ P(\\text{crew} | \\text{male}) = 0.504657. $$\n",
        "\n",
        "The bar $|$ is read as \"given\". The information after the bar is the given information. In this case, we were interested in the probability a person was a crew member, \"given\" they were male. That is, after restricting to the male passengers (i.e., using a boolean mask as a filter), we want to know the relative frequency of crew members."
      ]
    },
    {
      "cell_type": "markdown",
      "metadata": {
        "id": "ZGI7SaceJtam",
        "colab_type": "text"
      },
      "source": [
        "We can also filter on multiple criteria. For example, if we want to know the fraction of male _survivors_ who were crew members, we need to combine two boolean masks, one based on the column `gender` and another based on the column `survived`. The two masks can be combined using the logical operator `&`."
      ]
    },
    {
      "cell_type": "code",
      "metadata": {
        "id": "5-OhXQDXJtan",
        "colab_type": "code",
        "colab": {}
      },
      "source": [
        "(df_titanic[\"gender\"] == \"male\") & (df_titanic[\"survived\"] == 1)"
      ],
      "execution_count": 0,
      "outputs": []
    },
    {
      "cell_type": "markdown",
      "metadata": {
        "id": "ygJIJbtOJtat",
        "colab_type": "text"
      },
      "source": [
        "Notice that the logical operator was _broadcast_ (that word again!) over the elements of the two `Series`. In other words, the logical operator was applied to each element, producing a `Series` of booleans.\n",
        "\n",
        "Now we can use this new boolean mask to filter the `DataFrame`, just as we did before."
      ]
    },
    {
      "cell_type": "code",
      "metadata": {
        "id": "KdfY3t-wJtau",
        "colab_type": "code",
        "colab": {}
      },
      "source": [
        "df_male_survivors = df_titanic[(df_titanic[\"gender\"] == \"male\") & (df_titanic[\"survived\"] == 1)]\n",
        "df_male_survivors"
      ],
      "execution_count": 0,
      "outputs": []
    },
    {
      "cell_type": "markdown",
      "metadata": {
        "id": "xabQIG56Jtaw",
        "colab_type": "text"
      },
      "source": [
        "Besides `&`, there are two other logical operators that can be used to modify and combine boolean masks.\n",
        "\n",
        "- `&` means \"and\"\n",
        "- `|` means \"or\"\n",
        "- `~` means \"not\"\n",
        "\n",
        "Like `&`, the operators `|` and `~` are broadcast over the boolean masks."
      ]
    },
    {
      "cell_type": "markdown",
      "metadata": {
        "id": "tbOe6iaWJtaw",
        "colab_type": "text"
      },
      "source": [
        "## Exercises"
      ]
    },
    {
      "cell_type": "markdown",
      "metadata": {
        "id": "joCIoBDTJtax",
        "colab_type": "text"
      },
      "source": [
        "_Exercises 1-2 ask you to continue working with the Titanic data set explored in this lesson._"
      ]
    },
    {
      "cell_type": "markdown",
      "metadata": {
        "id": "1GsCobcZJtax",
        "colab_type": "text"
      },
      "source": [
        "1\\. Calculate the proportion of crew members who were male, and write a comment in your code that describes this quantity using probability notation (e.g., `# P(A|B)`). How does this proportion differ from the proportion calculated at the beginning of the \"Conditional Probabilities\" section above?"
      ]
    },
    {
      "cell_type": "markdown",
      "metadata": {
        "id": "YMb6xZ8-Jtay",
        "colab_type": "text"
      },
      "source": [
        "2\\. What is the distribution of gender among passengers on the Titanic? What is the distribution of gender among passengers on the Titanic who survived? Include comments that describe these quantities using probability notation."
      ]
    },
    {
      "cell_type": "markdown",
      "metadata": {
        "id": "QZ16JR0GJtaz",
        "colab_type": "text"
      },
      "source": [
        "_Exercises 3-5 deal with the OKCupid data set, which consists of user profiles in the San Francisco Bay Area on the dating website OKCupid. This data set is available at the URL https://dlsun.github.io/pods/data/okcupid.csv._"
      ]
    },
    {
      "cell_type": "markdown",
      "metadata": {
        "id": "jSNtXGq1Jta0",
        "colab_type": "text"
      },
      "source": [
        "3\\. Make a visualization (bar chart, for now) of the distribution of drinking status."
      ]
    },
    {
      "cell_type": "markdown",
      "metadata": {
        "id": "YuMsp3GLJta1",
        "colab_type": "text"
      },
      "source": [
        "4\\. Create a new variable that indicates whether the user has, likes, or dislikes cats (ignoring users who did not provide information about cats). Visualize the distribution of this variable."
      ]
    },
    {
      "cell_type": "markdown",
      "metadata": {
        "id": "beEYGriXJta2",
        "colab_type": "text"
      },
      "source": [
        "5\\. If you were a heterosexual female interested in dating a non-smoker, how many options would you have in this data set?"
      ]
    }
  ]
}